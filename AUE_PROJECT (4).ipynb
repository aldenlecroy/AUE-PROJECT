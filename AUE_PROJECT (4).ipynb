{
 "cells": [
  {
   "cell_type": "code",
   "execution_count": null,
   "id": "9e6a24a8-8177-46d6-8062-8db8c9ca72a6",
   "metadata": {},
   "outputs": [
    {
     "name": "stderr",
     "output_type": "stream",
     "text": [
      "The syntax of the command is incorrect.\n"
     ]
    }
   ],
   "source": [
    "#progress must be saved for others to see\n",
    "\n",
    "#PART 1\n",
    "#Computer vision on digitally created tire images using easyocr\n",
    "!pip install opencv-python==4.5.5.64\n",
    "!pip install easyocr\n",
    "!pip install opencv-python-headless==4.1.2.30\n",
    "import cv2\n",
    "import easyocr\n",
    "import matplotlib.pyplot as plt\n",
    "import os"
   ]
  },
  {
   "cell_type": "code",
   "execution_count": null,
   "id": "62712acb-ca9c-42d5-876a-456cb45ba787",
   "metadata": {},
   "outputs": [],
   "source": [
    "folder_path = 'tire_images'  # Replace with your actual folder path\n",
    "supported_formats = ('.jpg', '.jpeg', '.png')\n",
    "\n",
    "# Initialize EasyOCR reader\n",
    "reader = easyocr.Reader(['en'])\n",
    "\n",
    "# Loop through all image files in the folder\n",
    "for filename in os.listdir(folder_path):\n",
    "    if not filename.lower().endswith(supported_formats):\n",
    "        continue\n",
    "\n",
    "    image_path = os.path.join(folder_path, filename)\n",
    "    image = cv2.imread(image_path)\n",
    "\n",
    "    if image is None:\n",
    "        print(f\"❌ Couldn't load {filename}. Skipping.\")\n",
    "        continue\n",
    "\n",
    "    print(f\"\\n📸 Processing: {filename}\")\n",
    "\n",
    "    # Preprocessing\n",
    "    gray = cv2.cvtColor(image, cv2.COLOR_BGR2GRAY)\n",
    "    gray = cv2.bilateralFilter(gray, 11, 17, 17)\n",
    "\n",
    "    # OCR\n",
    "    results = reader.readtext(gray)\n",
    "\n",
    "    print(\"🔍 Detected Text:\")\n",
    "    for bbox, text, confidence in results:\n",
    "        print(f\"→ {text} (Confidence: {confidence:.2f})\")\n",
    "        \n",
    "        # Draw boxes\n",
    "        top_left = tuple(map(int, bbox[0]))\n",
    "        bottom_right = tuple(map(int, bbox[2]))\n",
    "        cv2.rectangle(image, top_left, bottom_right, (0, 255, 0), 2)\n",
    "        cv2.putText(image, text, top_left, cv2.FONT_HERSHEY_SIMPLEX, 0.7, (255, 0, 0), 2)\n",
    "\n",
    "    # Show annotated result\n",
    "    plt.figure(figsize=(10, 8))\n",
    "    plt.imshow(cv2.cvtColor(image, cv2.COLOR_BGR2RGB))\n",
    "    plt.title(f\"OCR Result - {filename}\")\n",
    "    plt.axis(\"off\")\n",
    "    plt.show()"
   ]
  },
  {
   "cell_type": "code",
   "execution_count": 3,
   "id": "aef92697-44b0-42d5-a909-859f53e30ffb",
   "metadata": {},
   "outputs": [],
   "source": [
    "#PART 2\n",
    "#Pass/Fail of tire label based on SSIM image comparison\n",
    "\n",
    "#Description: SSIM (structural similarity index) is a way to compare 2 images against each other pixel by pixel. The \n",
    "#model will scan each image and compute a similarity score from -1 to 1 (-1 being completely different and 1 being \n",
    "#completely similar). The idea here is to take image pairs from the associated ssim folder and compare them on a pass/fail\n",
    "#basis. For example if the ssim score is 0.5, it is a fail. Some of the images pairs in the folder are similar enough to\n",
    "#get a pass. So the pass/fail score will have to be played with to get right.\n",
    "\n",
    "\n",
    "\n",
    "#Gemeni will be useful here\n",
    "#search: i want to create an ssim model to compare 2 images and pass/fail them based on their similarity score\n",
    "\n",
    "# Roadmap\n",
    "#Step 1: Call in 2 images e.g. Michelin_LT_225_75R17 and Michelin_LT_225_75R17-altered\n",
    "#step 2: Compute similarity score\n",
    "#Step 3: If statement... basically if score > 0.92 then it passes\n",
    "#                                  if score < 0.92 then it fails      (again you'll have to play with this number)\n",
    "\n",
    "#In the file are 11 pairs of images so you'll have to run the code that mny times (unless you can code a way \n",
    "#to automate it)"
   ]
  },
  {
   "cell_type": "code",
   "execution_count": null,
   "id": "40654162-f95b-4117-974a-109849492138",
   "metadata": {},
   "outputs": [],
   "source": [
    "#PART 3\n",
    "#Computer vision to print out information based on actual michelin tire pictures (Using OCR)\n",
    "#Or reading dot codes and interpreting results with possible interface"
   ]
  }
 ],
 "metadata": {
  "kernelspec": {
   "display_name": "Python [conda env:base] *",
   "language": "python",
   "name": "conda-base-py"
  },
  "language_info": {
   "codemirror_mode": {
    "name": "ipython",
    "version": 3
   },
   "file_extension": ".py",
   "mimetype": "text/x-python",
   "name": "python",
   "nbconvert_exporter": "python",
   "pygments_lexer": "ipython3",
   "version": "3.12.7"
  }
 },
 "nbformat": 4,
 "nbformat_minor": 5
}

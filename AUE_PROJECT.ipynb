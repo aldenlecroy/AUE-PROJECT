{
 "cells": [
  {
   "cell_type": "code",
   "execution_count": null,
   "id": "fb6e0d27-2c53-4ce2-836f-0cdcad0be217",
   "metadata": {},
   "outputs": [],
   "source": [
    "#progress must be saved for others to see\n",
    "\n",
    "\n",
    "#PART 1\n",
    "#Computer vision training on digitally created tire images\n",
    "\n",
    "#PART 2\n",
    "#Pass/Fail of tire label based on SSIM image comparison\n",
    "\n",
    "#PART 3\n",
    "#Computer vision to print out information based on actual michelin tire pictures"
   ]
  }
 ],
 "metadata": {
  "kernelspec": {
   "display_name": "Python 3 (ipykernel)",
   "language": "python",
   "name": "python3"
  },
  "language_info": {
   "codemirror_mode": {
    "name": "ipython",
    "version": 3
   },
   "file_extension": ".py",
   "mimetype": "text/x-python",
   "name": "python",
   "nbconvert_exporter": "python",
   "pygments_lexer": "ipython3",
   "version": "3.12.8"
  }
 },
 "nbformat": 4,
 "nbformat_minor": 5
}
